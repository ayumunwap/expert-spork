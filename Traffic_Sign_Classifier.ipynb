{
 "cells": [
  {
   "cell_type": "markdown",
   "metadata": {},
   "source": [
    "# Self-Driving Car Engineer Nanodegree\n",
    "\n",
    "## Deep Learning\n",
    "\n",
    "## Project: Build a Traffic Sign Recognition Classifier\n",
    "\n",
    "In this notebook, a template is provided for you to implement your functionality in stages, which is required to successfully complete this project. If additional code is required that cannot be included in the notebook, be sure that the Python code is successfully imported and included in your submission if necessary. \n",
    "\n",
    "> **Note**: Once you have completed all of the code implementations, you need to finalize your work by exporting the iPython Notebook as an HTML document. Before exporting the notebook to html, all of the code cells need to have been run so that reviewers can see the final implementation and output. You can then export the notebook by using the menu above and navigating to  \\n\",\n",
    "    \"**File -> Download as -> HTML (.html)**. Include the finished document along with this notebook as your submission. \n",
    "\n",
    "In addition to implementing code, there is a writeup to complete. The writeup should be completed in a separate file, which can be either a markdown file or a pdf document. There is a [write up template](https://github.com/udacity/CarND-Traffic-Sign-Classifier-Project/blob/master/writeup_template.md) that can be used to guide the writing process. Completing the code template and writeup template will cover all of the [rubric points](https://review.udacity.com/#!/rubrics/481/view) for this project.\n",
    "\n",
    "The [rubric](https://review.udacity.com/#!/rubrics/481/view) contains \"Stand Out Suggestions\" for enhancing the project beyond the minimum requirements. The stand out suggestions are optional. If you decide to pursue the \"stand out suggestions\", you can include the code in this Ipython notebook and also discuss the results in the writeup file.\n",
    "\n",
    "\n",
    ">**Note:** Code and Markdown cells can be executed using the **Shift + Enter** keyboard shortcut. In addition, Markdown cells can be edited by typically double-clicking the cell to enter edit mode."
   ]
  },
  {
   "cell_type": "markdown",
   "metadata": {},
   "source": [
    "---\n",
    "## Step 0: Load The Data"
   ]
  },
  {
   "cell_type": "code",
   "execution_count": 1,
   "metadata": {
    "collapsed": false
   },
   "outputs": [],
   "source": [
    "# Load pickled data\n",
    "import pickle\n",
    "\n",
    "training_file   = 'test.p'\n",
    "validation_file = 'valid.p'\n",
    "testing_file    = 'train.p'\n",
    "\n",
    "with open(training_file, mode='rb') as f:\n",
    "    train = pickle.load(f)\n",
    "with open(validation_file, mode='rb') as f:\n",
    "    valid = pickle.load(f)\n",
    "with open(testing_file, mode='rb') as f:\n",
    "    test = pickle.load(f)\n",
    "    \n",
    "X_train, y_train = train['features'], train['labels']\n",
    "X_valid, y_valid = valid['features'], valid['labels']\n",
    "X_test, y_test   = test['features'], test['labels']"
   ]
  },
  {
   "cell_type": "markdown",
   "metadata": {},
   "source": [
    "---\n",
    "\n",
    "## Step 1: Dataset Summary & Exploration\n",
    "\n",
    "The pickled data is a dictionary with 4 key/value pairs:\n",
    "\n",
    "- `'features'` is a 4D array containing raw pixel data of the traffic sign images, (num examples, width, height, channels).\n",
    "- `'labels'` is a 1D array containing the label/class id of the traffic sign. The file `signnames.csv` contains id -> name mappings for each id.\n",
    "- `'sizes'` is a list containing tuples, (width, height) representing the original width and height the image.\n",
    "- `'coords'` is a list containing tuples, (x1, y1, x2, y2) representing coordinates of a bounding box around the sign in the image. **THESE COORDINATES ASSUME THE ORIGINAL IMAGE. THE PICKLED DATA CONTAINS RESIZED VERSIONS (32 by 32) OF THESE IMAGES**\n",
    "\n",
    "Complete the basic data summary below. Use python, numpy and/or pandas methods to calculate the data summary rather than hard coding the results. For example, the [pandas shape method](http://pandas.pydata.org/pandas-docs/stable/generated/pandas.DataFrame.shape.html) might be useful for calculating some of the summary results. "
   ]
  },
  {
   "cell_type": "markdown",
   "metadata": {},
   "source": [
    "### Provide a Basic Summary of the Data Set Using Python, Numpy and/or Pandas"
   ]
  },
  {
   "cell_type": "code",
   "execution_count": 2,
   "metadata": {
    "collapsed": false
   },
   "outputs": [
    {
     "name": "stdout",
     "output_type": "stream",
     "text": [
      "Number of testing examples = 34799\n",
      "Number of training examples = 12630\n",
      "Number of validation examples = 4410\n",
      "Image data shape = (32, 32, 3)\n",
      "Number of classes = 43\n"
     ]
    }
   ],
   "source": [
    "### Replace each question mark with the appropriate value. \n",
    "### Use python, pandas or numpy methods rather than hard coding the results\n",
    "import numpy as np\n",
    "\n",
    "# Number of training examples\n",
    "n_train = len(X_train)\n",
    "\n",
    "# Number of validation examples\n",
    "n_valid = len(X_valid)\n",
    "\n",
    "# Number of testing examples.\n",
    "n_test = len(X_test)\n",
    "\n",
    "# TODO: What's the shape of an traffic sign image?\n",
    "image_shape = X_train[0].shape\n",
    "\n",
    "# How many unique classes/labels there are in the dataset.\n",
    "n_classes = len(np.unique(y_train))\n",
    "\n",
    "print(\"Number of testing examples =\", n_test)\n",
    "print(\"Number of training examples =\", n_train)\n",
    "print(\"Number of validation examples =\", n_valid)\n",
    "print(\"Image data shape =\", image_shape)\n",
    "print(\"Number of classes =\", n_classes)"
   ]
  },
  {
   "cell_type": "markdown",
   "metadata": {},
   "source": [
    "### Include an exploratory visualization of the dataset"
   ]
  },
  {
   "cell_type": "markdown",
   "metadata": {},
   "source": [
    "Visualize the German Traffic Signs Dataset using the pickled file(s). This is open ended, suggestions include: plotting traffic sign images, plotting the count of each sign, etc.\n",
    "\n",
    "The [Matplotlib](http://matplotlib.org/) [examples](http://matplotlib.org/examples/index.html) and [gallery](http://matplotlib.org/gallery.html) pages are a great resource for doing visualizations in Python.\n",
    "\n",
    "**NOTE:** It's recommended you start with something simple first. If you wish to do more, come back to it after you've completed the rest of the sections."
   ]
  },
  {
   "cell_type": "code",
   "execution_count": 3,
   "metadata": {
    "collapsed": false
   },
   "outputs": [
    {
     "name": "stdout",
     "output_type": "stream",
     "text": [
      "Number of testing examples    = 34799\n",
      "Number of training examples   = 12630\n",
      "Number of validation examples =  4410\n"
     ]
    },
    {
     "data": {
      "image/png": "[encoded data removed]",
      "text/plain": [
       "<matplotlib.figure.Figure at 0x20d809cc978>"
      ]
     },
     "metadata": {},
     "output_type": "display_data"
    }
   ],
   "source": [
    "### Data exploration visualization code goes here.\n",
    "### Feel free to use as many code cells as needed.\n",
    "import matplotlib.pyplot as plt\n",
    "# Visualizations will be shown in the notebook.\n",
    "%matplotlib inline\n",
    "\n",
    "print(\"Number of testing examples    =\", len(X_test))\n",
    "print(\"Number of training examples   =\", len(X_train))\n",
    "print(\"Number of validation examples = \", len(X_valid))\n",
    "\n",
    "#plt.hist(y_test, label = 'testing', bins = 43, range = (0, 42), alpha = 0.5, color = \"r\")\n",
    "plt.hist(y_train, label = 'training', bins = 43, range = (0, 42), alpha = 0.5, color = \"g\")\n",
    "plt.hist(y_valid, label = 'validation', bins = 43, range = (0, 42), alpha = 0.5, color = \"b\")\n",
    "plt.title(' original training/validation/testing examples ')\n",
    "plt.xlabel(' sign id ')\n",
    "plt.ylabel(' count of sign id ')\n",
    "plt.legend()\n",
    "plt.show()"
   ]
  },
  {
   "cell_type": "markdown",
   "metadata": {},
   "source": [
    "----\n",
    "\n",
    "## Step 2: Design and Test a Model Architecture\n",
    "\n",
    "Design and implement a deep learning model that learns to recognize traffic signs. Train and test your model on the [German Traffic Sign Dataset](http://benchmark.ini.rub.de/?section=gtsrb&subsection=dataset).\n",
    "\n",
    "The LeNet-5 implementation shown in the [classroom](https://classroom.udacity.com/nanodegrees/nd013/parts/fbf77062-5703-404e-b60c-95b78b2f3f9e/modules/6df7ae49-c61c-4bb2-a23e-6527e69209ec/lessons/601ae704-1035-4287-8b11-e2c2716217ad/concepts/d4aca031-508f-4e0b-b493-e7b706120f81) at the end of the CNN lesson is a solid starting point. You'll have to change the number of classes and possibly the preprocessing, but aside from that it's plug and play! \n",
    "\n",
    "With the LeNet-5 solution from the lecture, you should expect a validation set accuracy of about 0.89. To meet specifications, the validation set accuracy will need to be at least 0.93. It is possible to get an even higher accuracy, but 0.93 is the minimum for a successful project submission. \n",
    "\n",
    "There are various aspects to consider when thinking about this problem:\n",
    "\n",
    "- Neural network architecture (is the network over or underfitting?)\n",
    "- Play around preprocessing techniques (normalization, rgb to grayscale, etc)\n",
    "- Number of examples per label (some have more than others).\n",
    "- Generate fake data.\n",
    "\n",
    "Here is an example of a [published baseline model on this problem](http://yann.lecun.com/exdb/publis/pdf/sermanet-ijcnn-11.pdf). It's not required to be familiar with the approach used in the paper but, it's good practice to try to read papers like these."
   ]
  },
  {
   "cell_type": "markdown",
   "metadata": {},
   "source": [
    "### Pre-process the Data Set (normalization, grayscale, etc.)"
   ]
  },
  {
   "cell_type": "markdown",
   "metadata": {},
   "source": [
    "Use the code cell (or multiple code cells, if necessary) to implement the first step of your project."
   ]
  },
  {
   "cell_type": "code",
   "execution_count": 4,
   "metadata": {
    "collapsed": false,
    "scrolled": false
   },
   "outputs": [],
   "source": [
    "### Preprocessing steps could include normalization, converting to grayscale, etc.\n",
    "import cv2\n",
    "import tensorflow as tf\n",
    "import random\n",
    "from scipy.ndimage import rotate\n",
    "from sklearn.utils import shuffle"
   ]
  },
  {
   "cell_type": "code",
   "execution_count": 5,
   "metadata": {
    "collapsed": false
   },
   "outputs": [
    {
     "name": "stdout",
     "output_type": "stream",
     "text": [
      "Pre-processing the Training Data Set...\n",
      "10% processed\n",
      "20% processed\n",
      "30% processed\n",
      "40% processed\n",
      "50% processed\n",
      "60% processed\n",
      "70% processed\n",
      "80% processed\n",
      "90% processed\n",
      "completed\n"
     ]
    }
   ],
   "source": [
    "### Argument the training data\n",
    "id_count = [0] * n_train\n",
    "for i in range(0, n_classes):\n",
    "    id_count[i] = np.sum(y_train == i)\n",
    "\n",
    "print(\"Pre-processing the Training Data Set...\")\n",
    "for i in range(0, n_train):\n",
    "    if i*10/n_train in {1,2,3,4,5,6,7,8,9}:\n",
    "        print(\"{:.0f}% processed\".format(i*100/n_train))\n",
    "    n = 750 / id_count[y_train[i]]    \n",
    "    while 1 < n:\n",
    "        rotated = rotate(X_train[i], random.randint(-30,30), reshape=False)\n",
    "        X_train = np.append(X_train.flatten(), rotated.flatten())\n",
    "        X_train = np.reshape(X_train, (-1,32,32,3))\n",
    "        y_train = np.append(y_train, y_train[i])\n",
    "        n -= 1\n",
    "print(\"completed\")"
   ]
  },
  {
   "cell_type": "code",
   "execution_count": 6,
   "metadata": {
    "collapsed": false
   },
   "outputs": [
    {
     "name": "stdout",
     "output_type": "stream",
     "text": [
      "Pre-processing the Validation Data Set...\n",
      "10% processed\n",
      "20% processed\n",
      "30% processed\n",
      "40% processed\n",
      "50% processed\n",
      "60% processed\n",
      "70% processed\n",
      "80% processed\n",
      "90% processed\n",
      "completed\n"
     ]
    }
   ],
   "source": [
    "### Argument the validation data\n",
    "id_count = [0] * n_valid\n",
    "for i in range(0, n_classes):\n",
    "    id_count[i] = np.sum(y_valid == i)\n",
    "\n",
    "print(\"Pre-processing the Validation Data Set...\")\n",
    "for i in range(0, n_valid):\n",
    "    if i*10/n_valid in {1,2,3,4,5,6,7,8,9}:\n",
    "        print(\"{:.0f}% processed\".format(i*100/n_valid))\n",
    "    n = 240 / id_count[y_valid[i]] \n",
    "    while 1 < n:\n",
    "        rotated = rotate(X_valid[i], random.randint(-30,30), reshape=False)\n",
    "        X_valid = np.append(X_valid.flatten(), rotated.flatten())\n",
    "        X_valid = np.reshape(X_valid, (-1,32,32,3))\n",
    "        y_valid = np.append(y_valid, y_valid[i])\n",
    "        n -= 1\n",
    "print(\"completed\")"
   ]
  },
  {
   "cell_type": "code",
   "execution_count": 7,
   "metadata": {
    "collapsed": false,
    "scrolled": false
   },
   "outputs": [
    {
     "name": "stdout",
     "output_type": "stream",
     "text": [
      "Number of testing examples    = 34799 <- 34799\n",
      "Number of training examples   = 39210 <- 12630\n",
      "Number of validation examples =  11700 <- 4410\n"
     ]
    },
    {
     "data": {
      "image/png": "[encoded data removed]",
      "text/plain": [
       "<matplotlib.figure.Figure at 0x20d8379b2e8>"
      ]
     },
     "metadata": {},
     "output_type": "display_data"
    }
   ],
   "source": [
    "print(\"Number of testing examples    =\", len(X_test), \"<-\", n_test)\n",
    "print(\"Number of training examples   =\", len(X_train), \"<-\", n_train)\n",
    "print(\"Number of validation examples = \", len(X_valid), \"<-\", n_valid)\n",
    "\n",
    "#plt.hist(y_test, label = 'testing', bins = 43, range = (0, 42), alpha = 0.5, color = \"r\")\n",
    "plt.hist(y_train, label = 'training', bins = 43, range = (0, 42), alpha = 0.5, color = \"g\")\n",
    "plt.hist(y_valid, label = 'validation', bins = 43, range = (0, 42), alpha = 0.5, color = \"b\")\n",
    "plt.title(' original training/validation/testing examples ')\n",
    "plt.xlabel(' sign id ')\n",
    "plt.ylabel(' count of sign id ')\n",
    "plt.legend()\n",
    "plt.show()"
   ]
  },
  {
   "cell_type": "code",
   "execution_count": 8,
   "metadata": {
    "collapsed": false
   },
   "outputs": [],
   "source": [
    "### Normalize the data\n",
    "for data in [X_train, X_valid]:\n",
    "    for image in data:\n",
    "        image = image / 255. - 0.5"
   ]
  },
  {
   "cell_type": "markdown",
   "metadata": {},
   "source": [
    "### Model Architecture"
   ]
  },
  {
   "cell_type": "code",
   "execution_count": 9,
   "metadata": {
    "collapsed": false
   },
   "outputs": [],
   "source": [
    "### Define your architecture here.\n",
    "import tensorflow as tf\n",
    "# Accuracy = 0.839 @ EPOCH 33, 0.848 @ 34, 0.858 @ 35, 0.854 @ 36. 0.860 @ 37\n",
    "EPOCHS = 100\n",
    "BATCH_SIZE = 128\n",
    "\n",
    "from tensorflow.contrib.layers import flatten\n",
    "\n",
    "def LeNet(x):\n",
    "    mu = 0\n",
    "    sigma = 0.1\n",
    "    \n",
    "    x = tf.image.rgb_to_grayscale(x, name=None)\n",
    "    x = tf.image.adjust_brightness(x, delta=0.5)\n",
    "    x = tf.image.adjust_contrast(x, contrast_factor=0.5)\n",
    "#    x = tf.contrib.layers.batch_norm(x, center=True, scale=True, is_training=True)\n",
    "\n",
    "    # 32x32x1 -> 28x28x6\n",
    "    conv1_W = tf.Variable(tf.truncated_normal(shape=(5, 5, 1, 6), mean = mu, stddev = sigma))\n",
    "    conv1_b = tf.Variable(tf.zeros(6))\n",
    "    conv1 = tf.nn.conv2d(x, conv1_W, strides=[1, 1, 1, 1], padding='VALID') + conv1_b\n",
    "    conv1 = tf.nn.relu(conv1)\n",
    "\n",
    "    # 28x28x6 -> 14x14x6\n",
    "    conv1 = tf.nn.max_pool(conv1, ksize=[1, 2, 2, 1], strides=[1, 2, 2, 1], padding='VALID')\n",
    "\n",
    "    # 14x14x6 -> 10x10x16\n",
    "    conv2_W = tf.Variable(tf.truncated_normal(shape=(5, 5, 6, 16), mean = mu, stddev = sigma))\n",
    "    conv2_b = tf.Variable(tf.zeros(16))\n",
    "    conv2 = tf.nn.conv2d(conv1, conv2_W, strides=[1, 1, 1, 1], padding='VALID') + conv2_b\n",
    "    conv2 = tf.nn.relu(conv2)\n",
    "\n",
    "    # 10x10x16 -> 5x5x16\n",
    "    conv2 = tf.nn.max_pool(conv2, ksize=[1, 2, 2, 1], strides=[1, 2, 2, 1], padding='VALID')\n",
    "    \n",
    "    # 5x5x16 -> 400\n",
    "    fc0 = flatten(conv2)\n",
    "    \n",
    "    # 400 -> 120\n",
    "    fc1_W = tf.Variable(tf.truncated_normal(shape=(400, 120), mean = mu, stddev = sigma))\n",
    "    fc1_b = tf.Variable(tf.zeros(120))\n",
    "    fc1 = tf.matmul(fc0, fc1_W) + fc1_b\n",
    "    fc1 = tf.nn.relu(fc1)\n",
    "    \n",
    "    # 120 -> 84\n",
    "    fc2_W = tf.Variable(tf.truncated_normal(shape=(120, 84), mean = mu, stddev = sigma))\n",
    "    fc2_b = tf.Variable(tf.zeros(84))\n",
    "    fc2 = tf.matmul(fc1, fc2_W) + fc2_b\n",
    "    fc2 = tf.nn.relu(fc2)\n",
    "    \n",
    "    # 84 -> 43\n",
    "    fc3_W = tf.Variable(tf.truncated_normal(shape=(84, n_classes), mean = mu, stddev = sigma))\n",
    "    fc3_b = tf.Variable(tf.zeros(n_classes))\n",
    "    logits = tf.matmul(fc2, fc3_W) + fc3_b\n",
    "    \n",
    "    return logits"
   ]
  },
  {
   "cell_type": "markdown",
   "metadata": {},
   "source": [
    "### Train, Validate and Test the Model"
   ]
  },
  {
   "cell_type": "markdown",
   "metadata": {},
   "source": [
    "A validation set can be used to assess how well the model is performing. A low accuracy on the training and validation\n",
    "sets imply underfitting. A high accuracy on the training set but low accuracy on the validation set implies overfitting."
   ]
  },
  {
   "cell_type": "code",
   "execution_count": 13,
   "metadata": {
    "collapsed": false,
    "scrolled": true
   },
   "outputs": [],
   "source": [
    "### Train your model here.\n",
    "### Calculate and report the accuracy on the training and validation set.\n",
    "### Once a final model architecture is selected, \n",
    "### the accuracy on the test set should be calculated and reported as well.\n",
    "### Feel free to use as many code cells as needed.\n",
    "x = tf.placeholder(tf.float32, (None, 32, 32, 3))\n",
    "y = tf.placeholder(tf.int32, (None))\n",
    "one_hot_y = tf.one_hot(y, n_classes)\n",
    "\n",
    "rate = 0.00005\n",
    "\n",
    "logits = LeNet(x)\n",
    "cross_entropy = tf.nn.softmax_cross_entropy_with_logits(logits, one_hot_y)\n",
    "loss_operation = tf.reduce_mean(cross_entropy)\n",
    "optimizer = tf.train.AdamOptimizer(learning_rate = rate)\n",
    "training_operation = optimizer.minimize(loss_operation)\n",
    "\n",
    "correct_prediction = tf.equal(tf.argmax(logits, 1), tf.argmax(one_hot_y, 1))\n",
    "accuracy_operation = tf.reduce_mean(tf.cast(correct_prediction, tf.float32))\n",
    "\n",
    "def evaluate(X_data, y_data):\n",
    "    num_examples = len(X_data)\n",
    "    total_loss = 0\n",
    "    total_accuracy = 0\n",
    "    sess = tf.get_default_session()\n",
    "    for offset in range(0, num_examples, BATCH_SIZE):\n",
    "        batch_x, batch_y = X_data[offset:offset+BATCH_SIZE], y_data[offset:offset+BATCH_SIZE]\n",
    "        loss, accuracy = sess.run([loss_operation, accuracy_operation], feed_dict={x: batch_x, y: batch_y})\n",
    "        total_loss += (loss * len(batch_x))\n",
    "        total_accuracy += (accuracy * len(batch_x))\n",
    "    return total_loss / num_examples, total_accuracy / num_examples"
   ]
  },
  {
   "cell_type": "code",
   "execution_count": 14,
   "metadata": {
    "collapsed": false,
    "scrolled": false
   },
   "outputs": [
    {
     "name": "stdout",
     "output_type": "stream",
     "text": [
      "Training...\n",
      "\n",
      "EPOCH 1 ...\n",
      "Train Loss = 3.61604000742\n",
      "Valid Loss = 3.75313048664\n",
      "Valid Accuracy = 0.038\n",
      "\n",
      "EPOCH 2 ...\n",
      "Train Loss = 3.1631005549\n",
      "Valid Loss = 3.59065760058\n",
      "Valid Accuracy = 0.110\n",
      "\n",
      "EPOCH 3 ...\n",
      "Train Loss = 2.17027100317\n",
      "Valid Loss = 2.99573286749\n",
      "Valid Accuracy = 0.300\n",
      "\n",
      "EPOCH 4 ...\n",
      "Train Loss = 1.66341211987\n",
      "Valid Loss = 2.68526768114\n",
      "Valid Accuracy = 0.399\n",
      "\n",
      "EPOCH 5 ...\n",
      "Train Loss = 1.35666648734\n",
      "Valid Loss = 2.56583157702\n",
      "Valid Accuracy = 0.453\n",
      "\n",
      "EPOCH 6 ...\n",
      "Train Loss = 1.15984151013\n",
      "Valid Loss = 2.51218803447\n",
      "Valid Accuracy = 0.486\n",
      "\n",
      "EPOCH 7 ...\n",
      "Train Loss = 1.01230064462\n",
      "Valid Loss = 2.46034043809\n",
      "Valid Accuracy = 0.514\n",
      "\n",
      "EPOCH 8 ...\n",
      "Train Loss = 0.894475078394\n",
      "Valid Loss = 2.38996621947\n",
      "Valid Accuracy = 0.537\n",
      "\n",
      "EPOCH 9 ...\n",
      "Train Loss = 0.80244207823\n",
      "Valid Loss = 2.35489330907\n",
      "Valid Accuracy = 0.559\n",
      "\n",
      "EPOCH 10 ...\n",
      "Train Loss = 0.72815386118\n",
      "Valid Loss = 2.3404712384\n",
      "Valid Accuracy = 0.568\n",
      "\n",
      "EPOCH 11 ...\n",
      "Train Loss = 0.667387332496\n",
      "Valid Loss = 2.34441008046\n",
      "Valid Accuracy = 0.577\n",
      "\n",
      "EPOCH 12 ...\n",
      "Train Loss = 0.612413107868\n",
      "Valid Loss = 2.33563941259\n",
      "Valid Accuracy = 0.590\n",
      "\n",
      "EPOCH 13 ...\n",
      "Train Loss = 0.557967815217\n",
      "Valid Loss = 2.26144506161\n",
      "Valid Accuracy = 0.604\n",
      "\n",
      "EPOCH 14 ...\n",
      "Train Loss = 0.523137574487\n",
      "Valid Loss = 2.28593433955\n",
      "Valid Accuracy = 0.607\n",
      "\n",
      "EPOCH 15 ...\n",
      "Train Loss = 0.483403757424\n",
      "Valid Loss = 2.32811148228\n",
      "Valid Accuracy = 0.614\n",
      "\n",
      "EPOCH 16 ...\n",
      "Train Loss = 0.450355740109\n",
      "Valid Loss = 2.36065205134\n",
      "Valid Accuracy = 0.618\n",
      "\n",
      "EPOCH 17 ...\n",
      "Train Loss = 0.418734299801\n",
      "Valid Loss = 2.31224760496\n",
      "Valid Accuracy = 0.630\n",
      "\n",
      "EPOCH 18 ...\n",
      "Train Loss = 0.387176288399\n",
      "Valid Loss = 2.33436799824\n",
      "Valid Accuracy = 0.640\n",
      "\n",
      "EPOCH 19 ...\n",
      "Train Loss = 0.368870470906\n",
      "Valid Loss = 2.31232658305\n",
      "Valid Accuracy = 0.647\n",
      "\n",
      "EPOCH 20 ...\n",
      "Train Loss = 0.352435834649\n",
      "Valid Loss = 2.39659951993\n",
      "Valid Accuracy = 0.638\n",
      "\n",
      "EPOCH 21 ...\n",
      "Train Loss = 0.33315555218\n",
      "Valid Loss = 2.400464021\n",
      "Valid Accuracy = 0.642\n",
      "\n",
      "EPOCH 22 ...\n",
      "Train Loss = 0.313481034885\n",
      "Valid Loss = 2.41405047963\n",
      "Valid Accuracy = 0.650\n",
      "\n",
      "EPOCH 23 ...\n",
      "Train Loss = 0.288951084796\n",
      "Valid Loss = 2.37886888423\n",
      "Valid Accuracy = 0.651\n",
      "\n",
      "EPOCH 24 ...\n",
      "Train Loss = 0.282021665024\n",
      "Valid Loss = 2.36337704394\n",
      "Valid Accuracy = 0.658\n",
      "\n",
      "EPOCH 25 ...\n",
      "Train Loss = 0.262119140304\n",
      "Valid Loss = 2.45662314342\n",
      "Valid Accuracy = 0.653\n",
      "\n",
      "EPOCH 26 ...\n",
      "Train Loss = 0.247089810722\n",
      "Valid Loss = 2.42460661065\n",
      "Valid Accuracy = 0.663\n",
      "\n",
      "EPOCH 27 ...\n",
      "Train Loss = 0.229481024372\n",
      "Valid Loss = 2.39477362722\n",
      "Valid Accuracy = 0.660\n",
      "\n",
      "EPOCH 28 ...\n",
      "Train Loss = 0.215717179187\n",
      "Valid Loss = 2.44460823255\n",
      "Valid Accuracy = 0.662\n",
      "\n",
      "EPOCH 29 ...\n",
      "Train Loss = 0.205226187749\n",
      "Valid Loss = 2.46982385904\n",
      "Valid Accuracy = 0.663\n",
      "\n",
      "EPOCH 30 ...\n",
      "Train Loss = 0.195512878491\n",
      "Valid Loss = 2.54330065735\n",
      "Valid Accuracy = 0.663\n",
      "\n",
      "EPOCH 31 ...\n",
      "Train Loss = 0.182850116751\n",
      "Valid Loss = 2.48642247559\n",
      "Valid Accuracy = 0.668\n",
      "\n",
      "EPOCH 32 ...\n",
      "Train Loss = 0.175665745733\n",
      "Valid Loss = 2.46123958429\n",
      "Valid Accuracy = 0.674\n",
      "\n",
      "EPOCH 33 ...\n",
      "Train Loss = 0.169463645464\n",
      "Valid Loss = 2.60075505289\n",
      "Valid Accuracy = 0.667\n",
      "\n",
      "EPOCH 34 ...\n",
      "Train Loss = 0.157849107781\n",
      "Valid Loss = 2.56305521072\n",
      "Valid Accuracy = 0.672\n",
      "\n",
      "EPOCH 35 ...\n",
      "Train Loss = 0.149678978731\n",
      "Valid Loss = 2.60527808401\n",
      "Valid Accuracy = 0.672\n",
      "\n",
      "EPOCH 36 ...\n",
      "Train Loss = 0.144741137612\n",
      "Valid Loss = 2.5015837964\n",
      "Valid Accuracy = 0.682\n",
      "\n",
      "EPOCH 37 ...\n",
      "Train Loss = 0.135351788187\n",
      "Valid Loss = 2.65239537003\n",
      "Valid Accuracy = 0.676\n",
      "\n",
      "EPOCH 38 ...\n",
      "Train Loss = 0.130610643312\n",
      "Valid Loss = 2.72959522745\n",
      "Valid Accuracy = 0.672\n",
      "\n",
      "EPOCH 39 ...\n",
      "Train Loss = 0.120430813354\n",
      "Valid Loss = 2.63092464235\n",
      "Valid Accuracy = 0.677\n",
      "\n",
      "EPOCH 40 ...\n",
      "Train Loss = 0.116633945282\n",
      "Valid Loss = 2.70304865617\n",
      "Valid Accuracy = 0.680\n",
      "\n",
      "EPOCH 41 ...\n",
      "Train Loss = 0.111112052697\n",
      "Valid Loss = 2.76956142629\n",
      "Valid Accuracy = 0.680\n",
      "\n",
      "EPOCH 42 ...\n",
      "Train Loss = 0.108020842295\n",
      "Valid Loss = 2.74847853962\n",
      "Valid Accuracy = 0.679\n",
      "\n",
      "EPOCH 43 ...\n",
      "Train Loss = 0.100927441388\n",
      "Valid Loss = 2.73997552717\n",
      "Valid Accuracy = 0.683\n",
      "\n",
      "EPOCH 44 ...\n",
      "Train Loss = 0.0966828087988\n",
      "Valid Loss = 2.86402848097\n",
      "Valid Accuracy = 0.673\n",
      "\n",
      "EPOCH 45 ...\n",
      "Train Loss = 0.0935559025253\n",
      "Valid Loss = 2.88547962026\n",
      "Valid Accuracy = 0.678\n",
      "\n",
      "EPOCH 46 ...\n",
      "Train Loss = 0.0861077695066\n",
      "Valid Loss = 2.87009604055\n",
      "Valid Accuracy = 0.682\n",
      "\n",
      "EPOCH 47 ...\n",
      "Train Loss = 0.0869815886971\n",
      "Valid Loss = 2.81314567289\n",
      "Valid Accuracy = 0.685\n",
      "\n",
      "EPOCH 48 ...\n",
      "Train Loss = 0.080978986497\n",
      "Valid Loss = 2.94374766961\n",
      "Valid Accuracy = 0.681\n",
      "\n",
      "EPOCH 49 ...\n",
      "Train Loss = 0.0753900455098\n",
      "Valid Loss = 2.90032339259\n",
      "Valid Accuracy = 0.688\n",
      "\n",
      "EPOCH 50 ...\n",
      "Train Loss = 0.074905218584\n",
      "Valid Loss = 2.97511267393\n",
      "Valid Accuracy = 0.686\n",
      "\n",
      "EPOCH 51 ...\n",
      "Train Loss = 0.0680636347988\n",
      "Valid Loss = 2.86896866497\n",
      "Valid Accuracy = 0.689\n",
      "\n",
      "EPOCH 52 ...\n",
      "Train Loss = 0.0675211974505\n",
      "Valid Loss = 2.96184510549\n",
      "Valid Accuracy = 0.687\n",
      "\n",
      "EPOCH 53 ...\n",
      "Train Loss = 0.0637032729719\n",
      "Valid Loss = 3.00944892011\n",
      "Valid Accuracy = 0.688\n",
      "\n",
      "EPOCH 54 ...\n",
      "Train Loss = 0.0613144945301\n",
      "Valid Loss = 3.07093101844\n",
      "Valid Accuracy = 0.689\n",
      "\n",
      "EPOCH 55 ...\n",
      "Train Loss = 0.060427125028\n",
      "Valid Loss = 3.05463059425\n",
      "Valid Accuracy = 0.687\n",
      "\n",
      "EPOCH 56 ...\n",
      "Train Loss = 0.0572500053101\n",
      "Valid Loss = 3.00356164863\n",
      "Valid Accuracy = 0.690\n",
      "\n",
      "EPOCH 57 ...\n",
      "Train Loss = 0.0560137849811\n",
      "Valid Loss = 3.23306521326\n",
      "Valid Accuracy = 0.680\n",
      "\n",
      "EPOCH 58 ...\n",
      "Train Loss = 0.0486029976276\n",
      "Valid Loss = 3.09254257952\n",
      "Valid Accuracy = 0.694\n",
      "\n",
      "EPOCH 59 ...\n",
      "Train Loss = 0.0510470903066\n",
      "Valid Loss = 3.12860650006\n",
      "Valid Accuracy = 0.695\n",
      "\n",
      "EPOCH 60 ...\n",
      "Train Loss = 0.0439419481123\n",
      "Valid Loss = 3.27406472385\n",
      "Valid Accuracy = 0.689\n",
      "\n",
      "EPOCH 61 ...\n",
      "Train Loss = 0.0434283707474\n",
      "Valid Loss = 3.2240951543\n",
      "Valid Accuracy = 0.695\n",
      "\n",
      "EPOCH 62 ...\n",
      "Train Loss = 0.0419938549479\n",
      "Valid Loss = 3.23544046655\n",
      "Valid Accuracy = 0.696\n",
      "\n",
      "EPOCH 63 ...\n",
      "Train Loss = 0.0403095472628\n",
      "Valid Loss = 3.3242798048\n",
      "Valid Accuracy = 0.694\n",
      "\n",
      "EPOCH 64 ...\n",
      "Train Loss = 0.0403552125426\n",
      "Valid Loss = 3.25833533026\n",
      "Valid Accuracy = 0.690\n",
      "\n",
      "EPOCH 65 ...\n",
      "Train Loss = 0.0375701894404\n",
      "Valid Loss = 3.22261447075\n",
      "Valid Accuracy = 0.699\n",
      "\n",
      "EPOCH 66 ...\n",
      "Train Loss = 0.0375721325483\n",
      "Valid Loss = 3.34364190909\n",
      "Valid Accuracy = 0.697\n",
      "\n",
      "EPOCH 67 ...\n",
      "Train Loss = 0.0347787026202\n",
      "Valid Loss = 3.34671171596\n",
      "Valid Accuracy = 0.698\n",
      "\n",
      "EPOCH 68 ...\n",
      "Train Loss = 0.0457780155305\n",
      "Valid Loss = 3.41206952364\n",
      "Valid Accuracy = 0.689\n",
      "\n",
      "EPOCH 69 ...\n",
      "Train Loss = 0.0306832550565\n",
      "Valid Loss = 3.40024204971\n",
      "Valid Accuracy = 0.699\n",
      "\n",
      "EPOCH 70 ...\n",
      "Train Loss = 0.0290605747542\n",
      "Valid Loss = 3.4937773094\n",
      "Valid Accuracy = 0.699\n",
      "\n",
      "EPOCH 71 ...\n",
      "Train Loss = 0.0278323286971\n",
      "Valid Loss = 3.52337398007\n",
      "Valid Accuracy = 0.699\n",
      "\n",
      "EPOCH 72 ...\n",
      "Train Loss = 0.0271384546461\n",
      "Valid Loss = 3.44871548376\n",
      "Valid Accuracy = 0.701\n",
      "\n",
      "EPOCH 73 ...\n",
      "Train Loss = 0.0261113859172\n",
      "Valid Loss = 3.51659830574\n",
      "Valid Accuracy = 0.699\n",
      "\n",
      "EPOCH 74 ...\n",
      "Train Loss = 0.0250516401395\n",
      "Valid Loss = 3.52931580544\n",
      "Valid Accuracy = 0.701\n",
      "\n",
      "EPOCH 75 ...\n",
      "Train Loss = 0.0229974894606\n",
      "Valid Loss = 3.61372559653\n",
      "Valid Accuracy = 0.701\n",
      "\n",
      "EPOCH 76 ...\n",
      "Train Loss = 0.0225218260995\n",
      "Valid Loss = 3.59870612055\n",
      "Valid Accuracy = 0.702\n",
      "\n",
      "EPOCH 77 ...\n",
      "Train Loss = 0.0215892335068\n",
      "Valid Loss = 3.67892495359\n",
      "Valid Accuracy = 0.697\n",
      "\n",
      "EPOCH 78 ...\n",
      "Train Loss = 0.0228189295154\n",
      "Valid Loss = 3.63306165202\n",
      "Valid Accuracy = 0.704\n",
      "\n",
      "EPOCH 79 ...\n",
      "Train Loss = 0.0204931432124\n",
      "Valid Loss = 3.62782813765\n",
      "Valid Accuracy = 0.701\n",
      "\n",
      "EPOCH 80 ...\n",
      "Train Loss = 0.0197900905055\n",
      "Valid Loss = 3.64340782883\n",
      "Valid Accuracy = 0.703\n",
      "\n",
      "EPOCH 81 ...\n",
      "Train Loss = 0.0176596554886\n",
      "Valid Loss = 3.71310868557\n",
      "Valid Accuracy = 0.701\n",
      "\n",
      "EPOCH 82 ...\n",
      "Train Loss = 0.0328402628722\n",
      "Valid Loss = 3.63428791568\n",
      "Valid Accuracy = 0.699\n",
      "\n",
      "EPOCH 83 ...\n",
      "Train Loss = 0.0163432767869\n",
      "Valid Loss = 3.6798873352\n",
      "Valid Accuracy = 0.702\n",
      "\n",
      "EPOCH 84 ...\n",
      "Train Loss = 0.0162068554593\n",
      "Valid Loss = 3.71472855014\n",
      "Valid Accuracy = 0.700\n",
      "\n",
      "EPOCH 85 ...\n",
      "Train Loss = 0.0150362348773\n",
      "Valid Loss = 3.84328514507\n",
      "Valid Accuracy = 0.703\n",
      "\n",
      "EPOCH 86 ...\n",
      "Train Loss = 0.015701767919\n",
      "Valid Loss = 3.86047651992\n",
      "Valid Accuracy = 0.701\n",
      "\n",
      "EPOCH 87 ...\n",
      "Train Loss = 0.0136094251536\n",
      "Valid Loss = 3.85934527471\n",
      "Valid Accuracy = 0.702\n",
      "\n",
      "EPOCH 88 ...\n",
      "Train Loss = 0.0137949020621\n",
      "Valid Loss = 3.93181900848\n",
      "Valid Accuracy = 0.699\n",
      "\n",
      "EPOCH 89 ...\n",
      "Train Loss = 0.0125882937382\n",
      "Valid Loss = 3.86586400431\n",
      "Valid Accuracy = 0.702\n",
      "\n",
      "EPOCH 90 ...\n",
      "Train Loss = 0.0125723131938\n",
      "Valid Loss = 3.89302403817\n",
      "Valid Accuracy = 0.707\n",
      "\n",
      "EPOCH 91 ...\n",
      "Train Loss = 0.0125152331969\n",
      "Valid Loss = 4.01250996484\n",
      "Valid Accuracy = 0.700\n",
      "\n",
      "EPOCH 92 ...\n",
      "Train Loss = 0.0116561630251\n",
      "Valid Loss = 4.03671251802\n",
      "Valid Accuracy = 0.702\n",
      "\n",
      "EPOCH 93 ...\n",
      "Train Loss = 0.0124722599132\n",
      "Valid Loss = 4.09452903503\n",
      "Valid Accuracy = 0.705\n",
      "\n",
      "EPOCH 94 ...\n",
      "Train Loss = 0.0106221175345\n",
      "Valid Loss = 4.08564611761\n",
      "Valid Accuracy = 0.702\n",
      "\n",
      "EPOCH 95 ...\n",
      "Train Loss = 0.0147284704032\n",
      "Valid Loss = 3.84145943585\n",
      "Valid Accuracy = 0.711\n",
      "\n",
      "EPOCH 96 ...\n",
      "Train Loss = 0.0109049405942\n",
      "Valid Loss = 4.0775248045\n",
      "Valid Accuracy = 0.702\n",
      "\n",
      "EPOCH 97 ...\n",
      "Train Loss = 0.0102266833529\n",
      "Valid Loss = 4.10489446444\n",
      "Valid Accuracy = 0.706\n",
      "\n",
      "EPOCH 98 ...\n",
      "Train Loss = 0.0129992007971\n",
      "Valid Loss = 4.0031322996\n",
      "Valid Accuracy = 0.711\n",
      "\n",
      "EPOCH 99 ...\n",
      "Train Loss = 0.00839637918576\n",
      "Valid Loss = 4.03801152205\n",
      "Valid Accuracy = 0.704\n",
      "\n",
      "EPOCH 100 ...\n",
      "Train Loss = 0.00783027166888\n",
      "Valid Loss = 4.18172696529\n",
      "Valid Accuracy = 0.705\n",
      "\n",
      "Model saved\n"
     ]
    }
   ],
   "source": [
    "train_loss_history = []\n",
    "valid_loss_history = []\n",
    "\n",
    "with tf.Session() as sess:\n",
    "    sess.run(tf.global_variables_initializer())\n",
    "    num_examples = len(X_train)\n",
    "    \n",
    "    print(\"Training...\")\n",
    "    print()\n",
    "    for i in range(EPOCHS):\n",
    "        for offset in range(0, num_examples, BATCH_SIZE):\n",
    "            ### Shuffle the data\n",
    "            X_train, y_train = shuffle(X_train, y_train)\n",
    "            X_valid, y_valid = shuffle(X_valid, y_valid)\n",
    "            batch_x, batch_y = X_train[offset:offset+BATCH_SIZE], y_train[offset:offset+BATCH_SIZE]\n",
    "            sess.run(training_operation, feed_dict={x: batch_x, y: batch_y})\n",
    "        \n",
    "        # evaluate loss and accuracy\n",
    "        train_loss, train_accuracy = evaluate(X_train, y_train)\n",
    "        valid_loss, valid_accuracy = evaluate(X_valid, y_valid)\n",
    "        train_loss_history = np.append(train_loss_history, train_loss)\n",
    "        valid_loss_history = np.append(valid_loss_history, valid_loss)\n",
    "        print(\"EPOCH {} ...\".format(i+1))\n",
    "        print(\"Train Loss =\", train_loss)\n",
    "        print(\"Valid Loss =\", valid_loss)\n",
    "        print(\"Valid Accuracy = {:.3f}\".format(valid_accuracy))\n",
    "        print()\n",
    "    try:\n",
    "        saver\n",
    "    except NameError:\n",
    "        saver = tf.train.Saver()\n",
    "    saver.save(sess, './lenet')\n",
    "    print(\"Model saved\")"
   ]
  },
  {
   "cell_type": "code",
   "execution_count": 15,
   "metadata": {
    "collapsed": false
   },
   "outputs": [
    {
     "data": {
      "text/plain": [
       "<matplotlib.legend.Legend at 0x20d865ae7b8>"
      ]
     },
     "execution_count": 15,
     "metadata": {},
     "output_type": "execute_result"
    },
    {
     "data": {
      "image/png": "[encoded data removed]",
      "text/plain": [
       "<matplotlib.figure.Figure at 0x20d847ecb70>"
      ]
     },
     "metadata": {},
     "output_type": "display_data"
    }
   ],
   "source": [
    "#0.0001\n",
    "loss_plot = plt.subplot(2,1,1)\n",
    "loss_plot.set_title('Loss')\n",
    "loss_plot.plot(train_loss_history, 'r', label='Training Loss')\n",
    "loss_plot.plot(valid_loss_history, 'b', label='Validation Loss')\n",
    "loss_plot.set_xlim([0, EPOCHS])\n",
    "loss_plot.set_ylim([0, 3])\n",
    "loss_plot.legend(loc=4)"
   ]
  },
  {
   "cell_type": "markdown",
   "metadata": {},
   "source": [
    "---\n",
    "\n",
    "## Step 3: Test a Model on New Images\n",
    "\n",
    "To give yourself more insight into how your model is working, download at least five pictures of German traffic signs from the web and use your model to predict the traffic sign type.\n",
    "\n",
    "You may find `signnames.csv` useful as it contains mappings from the class id (integer) to the actual sign name."
   ]
  },
  {
   "cell_type": "markdown",
   "metadata": {},
   "source": [
    "### Load and Output the Images"
   ]
  },
  {
   "cell_type": "code",
   "execution_count": 39,
   "metadata": {
    "collapsed": false
   },
   "outputs": [
    {
     "data": {
      "text/html": [
       "<img src=\"http://www.gettingaroundgermany.info/zeichen2.shtml#signals/z283.gif\"/>"
      ],
      "text/plain": [
       "<IPython.core.display.Image object>"
      ]
     },
     "metadata": {},
     "output_type": "display_data"
    }
   ],
   "source": [
    "### Load the images and plot them here.\n",
    "### Feel free to use as many code cells as needed.\n",
    "from IPython.display import Image, display\n",
    "from IPython.core.display import HTML \n",
    "display(Image(url= \"http://www.gettingaroundgermany.info/zeichen2.shtml#signals/z283.gif\"))"
   ]
  },
  {
   "cell_type": "markdown",
   "metadata": {},
   "source": [
    "### Predict the Sign Type for Each Image"
   ]
  },
  {
   "cell_type": "code",
   "execution_count": 3,
   "metadata": {
    "collapsed": true
   },
   "outputs": [],
   "source": [
    "### Run the predictions here and use the model to output the prediction for each image.\n",
    "### Make sure to pre-process the images with the same pre-processing pipeline used earlier.\n",
    "### Feel free to use as many code cells as needed."
   ]
  },
  {
   "cell_type": "markdown",
   "metadata": {},
   "source": [
    "### Analyze Performance"
   ]
  },
  {
   "cell_type": "code",
   "execution_count": 4,
   "metadata": {
    "collapsed": true
   },
   "outputs": [],
   "source": [
    "### Calculate the accuracy for these 5 new images. \n",
    "### For example, if the model predicted 1 out of 5 signs correctly, it's 20% accurate on these new images."
   ]
  },
  {
   "cell_type": "markdown",
   "metadata": {},
   "source": [
    "### Output Top 5 Softmax Probabilities For Each Image Found on the Web"
   ]
  },
  {
   "cell_type": "markdown",
   "metadata": {},
   "source": [
    "For each of the new images, print out the model's softmax probabilities to show the **certainty** of the model's predictions (limit the output to the top 5 probabilities for each image). [`tf.nn.top_k`](https://www.tensorflow.org/versions/r0.12/api_docs/python/nn.html#top_k) could prove helpful here. \n",
    "\n",
    "The example below demonstrates how tf.nn.top_k can be used to find the top k predictions for each image.\n",
    "\n",
    "`tf.nn.top_k` will return the values and indices (class ids) of the top k predictions. So if k=3, for each sign, it'll return the 3 largest probabilities (out of a possible 43) and the correspoding class ids.\n",
    "\n",
    "Take this numpy array as an example. The values in the array represent predictions. The array contains softmax probabilities for five candidate images with six possible classes. `tk.nn.top_k` is used to choose the three classes with the highest probability:\n",
    "\n",
    "```\n",
    "# (5, 6) array\n",
    "a = np.array([[ 0.24879643,  0.07032244,  0.12641572,  0.34763842,  0.07893497,\n",
    "         0.12789202],\n",
    "       [ 0.28086119,  0.27569815,  0.08594638,  0.0178669 ,  0.18063401,\n",
    "         0.15899337],\n",
    "       [ 0.26076848,  0.23664738,  0.08020603,  0.07001922,  0.1134371 ,\n",
    "         0.23892179],\n",
    "       [ 0.11943333,  0.29198961,  0.02605103,  0.26234032,  0.1351348 ,\n",
    "         0.16505091],\n",
    "       [ 0.09561176,  0.34396535,  0.0643941 ,  0.16240774,  0.24206137,\n",
    "         0.09155967]])\n",
    "```\n",
    "\n",
    "Running it through `sess.run(tf.nn.top_k(tf.constant(a), k=3))` produces:\n",
    "\n",
    "```\n",
    "TopKV2(values=array([[ 0.34763842,  0.24879643,  0.12789202],\n",
    "       [ 0.28086119,  0.27569815,  0.18063401],\n",
    "       [ 0.26076848,  0.23892179,  0.23664738],\n",
    "       [ 0.29198961,  0.26234032,  0.16505091],\n",
    "       [ 0.34396535,  0.24206137,  0.16240774]]), indices=array([[3, 0, 5],\n",
    "       [0, 1, 4],\n",
    "       [0, 5, 1],\n",
    "       [1, 3, 5],\n",
    "       [1, 4, 3]], dtype=int32))\n",
    "```\n",
    "\n",
    "Looking just at the first row we get `[ 0.34763842,  0.24879643,  0.12789202]`, you can confirm these are the 3 largest probabilities in `a`. You'll also notice `[3, 0, 5]` are the corresponding indices."
   ]
  },
  {
   "cell_type": "code",
   "execution_count": 6,
   "metadata": {
    "collapsed": true
   },
   "outputs": [],
   "source": [
    "### Print out the top five softmax probabilities for the predictions on the German traffic sign images found on the web. \n",
    "### Feel free to use as many code cells as needed."
   ]
  },
  {
   "cell_type": "markdown",
   "metadata": {},
   "source": [
    "---\n",
    "\n",
    "## Step 4: Visualize the Neural Network's State with Test Images\n",
    "\n",
    " This Section is not required to complete but acts as an additional excersise for understaning the output of a neural network's weights. While neural networks can be a great learning device they are often referred to as a black box. We can understand what the weights of a neural network look like better by plotting their feature maps. After successfully training your neural network you can see what it's feature maps look like by plotting the output of the network's weight layers in response to a test stimuli image. From these plotted feature maps, it's possible to see what characteristics of an image the network finds interesting. For a sign, maybe the inner network feature maps react with high activation to the sign's boundary outline or to the contrast in the sign's painted symbol.\n",
    "\n",
    " Provided for you below is the function code that allows you to get the visualization output of any tensorflow weight layer you want. The inputs to the function should be a stimuli image, one used during training or a new one you provided, and then the tensorflow variable name that represents the layer's state during the training process, for instance if you wanted to see what the [LeNet lab's](https://classroom.udacity.com/nanodegrees/nd013/parts/fbf77062-5703-404e-b60c-95b78b2f3f9e/modules/6df7ae49-c61c-4bb2-a23e-6527e69209ec/lessons/601ae704-1035-4287-8b11-e2c2716217ad/concepts/d4aca031-508f-4e0b-b493-e7b706120f81) feature maps looked like for it's second convolutional layer you could enter conv2 as the tf_activation variable.\n",
    "\n",
    "For an example of what feature map outputs look like, check out NVIDIA's results in their paper [End-to-End Deep Learning for Self-Driving Cars](https://devblogs.nvidia.com/parallelforall/deep-learning-self-driving-cars/) in the section Visualization of internal CNN State. NVIDIA was able to show that their network's inner weights had high activations to road boundary lines by comparing feature maps from an image with a clear path to one without. Try experimenting with a similar test to show that your trained network's weights are looking for interesting features, whether it's looking at differences in feature maps from images with or without a sign, or even what feature maps look like in a trained network vs a completely untrained one on the same sign image.\n",
    "\n",
    "<figure>\n",
    " <img src=\"visualize_cnn.png\" width=\"380\" alt=\"Combined Image\" />\n",
    " <figcaption>\n",
    " <p></p> \n",
    " <p style=\"text-align: center;\"> Your output should look something like this (above)</p> \n",
    " </figcaption>\n",
    "</figure>\n",
    " <p></p> \n"
   ]
  },
  {
   "cell_type": "code",
   "execution_count": null,
   "metadata": {
    "collapsed": true
   },
   "outputs": [],
   "source": [
    "### Visualize your network's feature maps here.\n",
    "### Feel free to use as many code cells as needed.\n",
    "\n",
    "# image_input: the test image being fed into the network to produce the feature maps\n",
    "# tf_activation: should be a tf variable name used during your training procedure that represents the calculated state of a specific weight layer\n",
    "# activation_min/max: can be used to view the activation contrast in more detail, by default matplot sets min and max to the actual min and max values of the output\n",
    "# plt_num: used to plot out multiple different weight feature map sets on the same block, just extend the plt number for each new feature map entry\n",
    "\n",
    "def outputFeatureMap(image_input, tf_activation, activation_min=-1, activation_max=-1 ,plt_num=1):\n",
    "    # Here make sure to preprocess your image_input in a way your network expects\n",
    "    # with size, normalization, ect if needed\n",
    "    # image_input =\n",
    "    # Note: x should be the same name as your network's tensorflow data placeholder variable\n",
    "    # If you get an error tf_activation is not defined it maybe having trouble accessing the variable from inside a function\n",
    "    activation = tf_activation.eval(session=sess,feed_dict={x : image_input})\n",
    "    featuremaps = activation.shape[3]\n",
    "    plt.figure(plt_num, figsize=(15,15))\n",
    "    for featuremap in range(featuremaps):\n",
    "        plt.subplot(6,8, featuremap+1) # sets the number of feature maps to show on each row and column\n",
    "        plt.title('FeatureMap ' + str(featuremap)) # displays the feature map number\n",
    "        if activation_min != -1 & activation_max != -1:\n",
    "            plt.imshow(activation[0,:,:, featuremap], interpolation=\"nearest\", vmin =activation_min, vmax=activation_max, cmap=\"gray\")\n",
    "        elif activation_max != -1:\n",
    "            plt.imshow(activation[0,:,:, featuremap], interpolation=\"nearest\", vmax=activation_max, cmap=\"gray\")\n",
    "        elif activation_min !=-1:\n",
    "            plt.imshow(activation[0,:,:, featuremap], interpolation=\"nearest\", vmin=activation_min, cmap=\"gray\")\n",
    "        else:\n",
    "            plt.imshow(activation[0,:,:, featuremap], interpolation=\"nearest\", cmap=\"gray\")"
   ]
  },
  {
   "cell_type": "markdown",
   "metadata": {},
   "source": [
    "### Question 9\n",
    "\n",
    "Discuss how you used the visual output of your trained network's feature maps to show that it had learned to look for interesting characteristics in traffic sign images\n"
   ]
  },
  {
   "cell_type": "markdown",
   "metadata": {},
   "source": [
    "**Answer:**"
   ]
  },
  {
   "cell_type": "markdown",
   "metadata": {},
   "source": [
    "> **Note**: Once you have completed all of the code implementations and successfully answered each question above, you may finalize your work by exporting the iPython Notebook as an HTML document. You can do this by using the menu above and navigating to  \\n\",\n",
    "    \"**File -> Download as -> HTML (.html)**. Include the finished document along with this notebook as your submission."
   ]
  },
  {
   "cell_type": "markdown",
   "metadata": {},
   "source": [
    "### Project Writeup\n",
    "\n",
    "Once you have completed the code implementation, document your results in a project writeup using this [template](https://github.com/udacity/CarND-Traffic-Sign-Classifier-Project/blob/master/writeup_template.md) as a guide. The writeup can be in a markdown or pdf file. "
   ]
  }
 ],
 "metadata": {
  "anaconda-cloud": {},
  "celltoolbar": "Raw Cell Format",
  "kernelspec": {
   "display_name": "Python 3",
   "language": "python",
   "name": "python3"
  },
  "language_info": {
   "codemirror_mode": {
    "name": "ipython",
    "version": 3
   },
   "file_extension": ".py",
   "mimetype": "text/x-python",
   "name": "python",
   "nbconvert_exporter": "python",
   "pygments_lexer": "ipython3",
   "version": "3.5.2"
  },
  "widgets": {
   "state": {},
   "version": "1.1.2"
  }
 },
 "nbformat": 4,
 "nbformat_minor": 1
}
